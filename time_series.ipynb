{
 "cells": [
  {
   "cell_type": "code",
   "execution_count": null,
   "metadata": {},
   "outputs": [],
   "source": [
    "import pmdarima as pm\n",
    "from pmdarima.model_selection import train_test_split\n",
    "from pmdarima.pipeline import Pipeline\n",
    "from pmdarima.preprocessing import BoxCoxEndogTransformer\n",
    "import pickle\n",
    "\n",
    "# Load/split your data\n",
    "y = pm.datasets.load_sunspots()\n",
    "train, test = train_test_split(y, train_size=2700)\n",
    "\n",
    "# Define and fit your pipeline\n",
    "pipeline = Pipeline([\n",
    "    ('boxcox', BoxCoxEndogTransformer(lmbda2=1e-6)),  # lmbda2 avoids negative values\n",
    "    ('arima', pm.AutoARIMA(seasonal=True, m=12,\n",
    "                           suppress_warnings=True,\n",
    "                           trace=True))\n",
    "])\n",
    "\n",
    "pipeline.fit(train)\n",
    "\n",
    "# Serialize your model just like you would in scikit:\n",
    "with open('model.pkl', 'wb') as pkl:\n",
    "    pickle.dump(pipeline, pkl)\n",
    "    \n",
    "# Load it and make predictions seamlessly:\n",
    "with open('model.pkl', 'rb') as pkl:\n",
    "    mod = pickle.load(pkl)\n",
    "    print(mod.predict(15))\n",
    "# [25.20580375 25.05573898 24.4263037  23.56766793 22.67463049 21.82231043\n",
    "# 21.04061069 20.33693017 19.70906027 19.1509862  18.6555793  18.21577243\n",
    "# 17.8250318  17.47750614 17.16803394]"
   ]
  },
  {
   "cell_type": "code",
   "execution_count": null,
   "metadata": {},
   "outputs": [],
   "source": []
  }
 ],
 "metadata": {
  "kernelspec": {
   "display_name": "env",
   "language": "python",
   "name": "python3"
  },
  "language_info": {
   "codemirror_mode": {
    "name": "ipython",
    "version": 3
   },
   "file_extension": ".py",
   "mimetype": "text/x-python",
   "name": "python",
   "nbconvert_exporter": "python",
   "pygments_lexer": "ipython3",
   "version": "3.8.10"
  },
  "orig_nbformat": 4,
  "vscode": {
   "interpreter": {
    "hash": "cadbd4b527895ddb88c08dca8bcd56340bc9f2f810b9f96dfb649edd88faa3ac"
   }
  }
 },
 "nbformat": 4,
 "nbformat_minor": 2
}
